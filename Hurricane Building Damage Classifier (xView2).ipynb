{
 "cells": [
  {
   "cell_type": "code",
   "execution_count": 1,
   "metadata": {
    "collapsed": true
   },
   "outputs": [],
   "source": [
    "import pandas as pd    # pandas (for reading and handling data in dataframes)\n",
    "\n",
    "import numpy as np     # matrix/linear algebra library\n",
    "\n",
    "from scipy import stats# prob/stats library to get distribution information\n",
    "\n",
    "import os              # platform independent filesystem manipulations\n",
    "\n",
    "from collections import Counter\n",
    "\n",
    "from sklearn import model_selection, kernel_ridge, linear_model, metrics, feature_selection, preprocessing"
   ]
  }
 ],
 "metadata": {
  "kernelspec": {
   "display_name": "Python 3",
   "language": "python",
   "name": "python3"
  },
  "language_info": {
   "codemirror_mode": {
    "name": "ipython",
    "version": 3
   },
   "file_extension": ".py",
   "mimetype": "text/x-python",
   "name": "python",
   "nbconvert_exporter": "python",
   "pygments_lexer": "ipython3",
   "version": "3.6.1"
  }
 },
 "nbformat": 4,
 "nbformat_minor": 2
}
