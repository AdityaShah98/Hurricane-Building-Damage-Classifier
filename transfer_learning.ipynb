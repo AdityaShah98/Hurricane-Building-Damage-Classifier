{
 "cells": [
  {
   "cell_type": "code",
   "execution_count": 33,
   "metadata": {},
   "outputs": [],
   "source": [
    "from keras.applications.resnet50 import ResNet50, preprocess_input"
   ]
  },
  {
   "cell_type": "code",
   "execution_count": 7,
   "metadata": {},
   "outputs": [
    {
     "name": "stdout",
     "output_type": "stream",
     "text": [
      "Downloading data from https://github.com/fchollet/deep-learning-models/releases/download/v0.2/resnet50_weights_tf_dim_ordering_tf_kernels_notop.h5\n",
      "94658560/94653016 [==============================] - 8s 0us/step\n"
     ]
    }
   ],
   "source": [
    "HEIGHT = 197\n",
    "WIDTH = 197\n",
    "\n",
    "base_model = ResNet50(weights='imagenet', include_top=False, input_shape=(HEIGHT, WIDTH, 3))"
   ]
  },
  {
   "cell_type": "code",
   "execution_count": 9,
   "metadata": {},
   "outputs": [],
   "source": [
    "import numpy as np\n",
    "import json\n",
    "import os\n",
    "post_building_files = sorted(os.listdir('data/train_images/post_buildings'))\n",
    "\n",
    "json_source = 'data/train_labels/post_labels/'\n",
    "post_hurricane_jsons = sorted([f for f in os.listdir(json_source)])\n",
    "\n",
    "damage_labels = []\n",
    "for image_json in post_hurricane_jsons:\n",
    "    with open (json_source + image_json) as f:\n",
    "        json_data = json.load(f)\n",
    "        \n",
    "    for building in json_data['features']['xy']:\n",
    "        damage_labels.append(building['properties']['subtype'])"
   ]
  },
  {
   "cell_type": "code",
   "execution_count": 11,
   "metadata": {},
   "outputs": [
    {
     "data": {
      "text/plain": [
       "(66092, 50, 50, 3)"
      ]
     },
     "execution_count": 11,
     "metadata": {},
     "output_type": "execute_result"
    }
   ],
   "source": [
    "from PIL import Image\n",
    "\n",
    "Images = []\n",
    "for f in post_building_files:\n",
    "    Images.append(Image.open('data/train_images/post_buildings/' + f).convert('RGB'))\n",
    "    \n",
    "X_post = []\n",
    "for I in Images:\n",
    "    X_post.append(np.asarray(I))\n",
    "    \n",
    "X_post = np.array(X_post)\n",
    "X_post.shape"
   ]
  },
  {
   "cell_type": "code",
   "execution_count": 31,
   "metadata": {},
   "outputs": [],
   "source": [
    "X_post_padded = [np.pad(img, ((73, 74), (73, 74), (0,0)), 'constant', constant_values=(255,)) for img in X_post] "
   ]
  },
  {
   "cell_type": "code",
   "execution_count": 32,
   "metadata": {},
   "outputs": [
    {
     "data": {
      "text/plain": [
       "(66092, 197, 197, 3)"
      ]
     },
     "execution_count": 32,
     "metadata": {},
     "output_type": "execute_result"
    }
   ],
   "source": [
    "X_post_padded = np.array(X_post_padded)\n",
    "X_post_padded.shape"
   ]
  },
  {
   "cell_type": "code",
   "execution_count": 36,
   "metadata": {},
   "outputs": [],
   "source": [
    "from keras.layers import Dense, Activation, Flatten, Dropout\n",
    "from keras.models import Sequential, Model\n",
    "\n",
    "## remove the FC layers\n",
    "dropout = 0.5\n",
    "num_classes = 2\n",
    "FC = [1024, 1024]\n",
    "\n",
    "for layer in base_model.layers:\n",
    "    layer.trainable = False\n",
    "    \n",
    "x = base_model.output\n",
    "x = Flatten()(x)\n",
    "\n",
    "for fc in FC:\n",
    "    x = Dense(fc, activation='relu')(x)\n",
    "    x = Dropout(dropout)(x)\n",
    "\n",
    "# new softmax layer:\n",
    "predictions = Dense(num_classes, activation='softmax')(x)\n",
    "\n",
    "new_model = Model(inputs=base_model.input, outputs=predictions)\n"
   ]
  },
  {
   "cell_type": "code",
   "execution_count": null,
   "metadata": {},
   "outputs": [],
   "source": []
  }
 ],
 "metadata": {
  "kernelspec": {
   "display_name": "Python 3",
   "language": "python",
   "name": "python3"
  },
  "language_info": {
   "codemirror_mode": {
    "name": "ipython",
    "version": 3
   },
   "file_extension": ".py",
   "mimetype": "text/x-python",
   "name": "python",
   "nbconvert_exporter": "python",
   "pygments_lexer": "ipython3",
   "version": "3.6.9"
  }
 },
 "nbformat": 4,
 "nbformat_minor": 2
}
