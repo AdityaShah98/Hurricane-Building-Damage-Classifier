{
 "cells": [
  {
   "cell_type": "code",
   "execution_count": 27,
   "metadata": {},
   "outputs": [],
   "source": [
    "from PIL import Image, ImageDraw\n",
    "import numpy\n",
    "import shutil\n",
    "import os\n",
    "import json\n",
    "from shapely.geometry import Polygon\n",
    "import shapely.wkt\n"
   ]
  },
  {
   "cell_type": "code",
   "execution_count": 28,
   "metadata": {},
   "outputs": [],
   "source": [
    "image_source = 'data/train_images/pre_images/'\n",
    "dest = 'data/train_images/pre_buildings/'\n",
    "\n",
    "pre_hurricane_images = sorted([f for f in os.listdir(image_source)])\n",
    "\n",
    "# source = 'data/train_images/pre_images/hurricane-florence_00000012_pre_disaster.png'\n",
    "\n",
    "# image = Image.open(source).convert(\"RGBA\")\n",
    "#image"
   ]
  },
  {
   "cell_type": "code",
   "execution_count": 29,
   "metadata": {},
   "outputs": [],
   "source": [
    "def getBuildingImage(image, poly_xy, building_poly):\n",
    "    imArray = numpy.asarray(image)\n",
    "    \n",
    "    # create mask\n",
    "    maskIm = Image.new('L', (imArray.shape[1], imArray.shape[0]), 0)\n",
    "    ImageDraw.Draw(maskIm).polygon(poly_xy, outline=1, fill=1)\n",
    "    mask = numpy.array(maskIm)\n",
    "    \n",
    "    # assemble new image (uint8: 0-255)\n",
    "    newImArray = numpy.empty(imArray.shape,dtype='uint8')\n",
    "\n",
    "    # colors (three first columns, RGB)\n",
    "    newImArray[:,:,:3] = imArray[:,:,:3]\n",
    "\n",
    "    # transparency (4th column)\n",
    "    newImArray[:,:,3] = mask*255\n",
    "\n",
    "    # back to Image from numpy\n",
    "    newIm = Image.fromarray(newImArray, \"RGBA\")\n",
    "    \n",
    "    #crop out just the building from image\n",
    "    poly_bounds = building_poly.bounds\n",
    "    cropped_building_img = newIm.crop(poly_bounds)\n",
    "    \n",
    "    #put center of cropped image onto standarized image size\n",
    "    img_w, img_h = cropped_building_img.size\n",
    "    background = Image.new('RGBA', (100, 75), (255, 255, 255, 0))\n",
    "    bg_w, bg_h = background.size\n",
    "    offset = ((bg_w - img_w) // 2, (bg_h - img_h) // 2)\n",
    "    background.paste(cropped_building_img, offset)\n",
    "    return background\n",
    "    \n",
    "    \n",
    "    "
   ]
  },
  {
   "cell_type": "code",
   "execution_count": 36,
   "metadata": {},
   "outputs": [],
   "source": [
    "## get json data for this file\n",
    "json_source = 'data/train_labels/pre_labels/'\n",
    "pre_hurricane_jsons = sorted([f for f in os.listdir(json_source)])\n",
    "\n",
    "## cuts out building polygons from each image, standardrizes format, and saves images to data folder\n",
    "#len(pre_hurricane_images)\n",
    "for image_index in range(1):\n",
    "    image = Image.open(image_source + pre_hurricane_images[image_index]).convert(\"RGBA\")\n",
    "    with open (json_source + pre_hurricane_jsons[image_index]) as f:\n",
    "        json_data = json.load(f)\n",
    "    building_counter = 0\n",
    "    for building in json_data['features']['xy']:\n",
    "        building_wkt = building['wkt']\n",
    "        building_poly = shapely.wkt.loads(building_wkt)\n",
    "        x, y = building_poly.exterior.coords.xy\n",
    "        poly_xy = [(x[i], y[i]) for i in range(len(x))]\n",
    "        formatted_building_image = getBuildingImage(image, poly_xy, building_poly)\n",
    "        formatted_building_image.save(dest + pre_hurricane_images[image_index].replace('.png', '') + '_building_' + str(building_counter) + '.png')\n",
    "        building_counter += 1\n",
    "        \n",
    "\n"
   ]
  },
  {
   "cell_type": "code",
   "execution_count": null,
   "metadata": {},
   "outputs": [],
   "source": []
  }
 ],
 "metadata": {
  "kernelspec": {
   "display_name": "Python 3",
   "language": "python",
   "name": "python3"
  },
  "language_info": {
   "codemirror_mode": {
    "name": "ipython",
    "version": 3
   },
   "file_extension": ".py",
   "mimetype": "text/x-python",
   "name": "python",
   "nbconvert_exporter": "python",
   "pygments_lexer": "ipython3",
   "version": "3.7.3"
  }
 },
 "nbformat": 4,
 "nbformat_minor": 2
}
