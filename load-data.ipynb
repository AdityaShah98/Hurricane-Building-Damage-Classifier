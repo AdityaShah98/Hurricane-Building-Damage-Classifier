{
 "cells": [
  {
   "cell_type": "code",
   "execution_count": 30,
   "metadata": {},
   "outputs": [],
   "source": [
    "import shutil\n",
    "import os\n",
    "\n",
    "## create folders\n",
    "if not os.path.exists('data/'):\n",
    "    os.makedirs('data/train_images/pre_images')\n",
    "    os.makedirs('data/train_images/post_images')\n",
    "    os.makedirs('data/train_labels/pre_labels')\n",
    "    os.makedirs('data/train_labels/post_labels')\n",
    "    "
   ]
  },
  {
   "cell_type": "code",
   "execution_count": 31,
   "metadata": {},
   "outputs": [],
   "source": [
    "import json\n",
    "import pandas as pd\n",
    "from pandas.io.json import json_normalize\n",
    "\n",
    "\n",
    "source = 'train/images/'\n",
    "dest = 'data/train_images/pre_images/'\n",
    "\n",
    "\n",
    "## TODO: only copy if file doesn't exist already\n",
    "pre_hurricane_images = sorted([f for f in os.listdir(source) if 'hurricane' in f and 'pre' in f])\n",
    "for f in pre_hurricane_images:\n",
    "    shutil.copy(source+f, dest)"
   ]
  },
  {
   "cell_type": "code",
   "execution_count": 32,
   "metadata": {},
   "outputs": [],
   "source": [
    "post_hurricane_images = sorted([f for f in os.listdir(source) if 'hurricane' in f and 'post' in f])\n",
    "for f in post_hurricane_images:\n",
    "    shutil.copy('train/images/' + f, 'data/train_images/post_images/')"
   ]
  },
  {
   "cell_type": "code",
   "execution_count": 33,
   "metadata": {},
   "outputs": [],
   "source": [
    "pre_hurricane_labels = sorted([f for f in os.listdir('train/labels') if 'hurricane' in f and 'pre' in f])\n",
    "for f in pre_hurricane_labels:\n",
    "    shutil.copy('train/labels/' + f, 'data/train_labels/pre_labels')"
   ]
  },
  {
   "cell_type": "code",
   "execution_count": 34,
   "metadata": {},
   "outputs": [],
   "source": [
    "post_hurricane_labels = sorted([f for f in os.listdir('train/labels') if 'hurricane' in f and 'post' in f])\n",
    "for f in post_hurricane_labels:\n",
    "    shutil.copy('train/labels/' + f, 'data/train_labels/post_labels')"
   ]
  },
  {
   "cell_type": "code",
   "execution_count": null,
   "metadata": {},
   "outputs": [],
   "source": [
    "## TODO: copy files into pre/post split"
   ]
  }
 ],
 "metadata": {
  "kernelspec": {
   "display_name": "Python 3",
   "language": "python",
   "name": "python3"
  },
  "language_info": {
   "codemirror_mode": {
    "name": "ipython",
    "version": 3
   },
   "file_extension": ".py",
   "mimetype": "text/x-python",
   "name": "python",
   "nbconvert_exporter": "python",
   "pygments_lexer": "ipython3",
   "version": "3.6.9"
  }
 },
 "nbformat": 4,
 "nbformat_minor": 2
}
